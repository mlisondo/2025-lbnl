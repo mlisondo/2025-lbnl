{
 "cells": [
  {
   "cell_type": "markdown",
   "id": "9ac87a66",
   "metadata": {},
   "source": [
    "# Exploration of the $gg \\to (h^{\\ast} \\to) ZZ \\to 4\\ell$ dataset\n",
    "\n",
    "In this tutorial, we will take some time to explore & understand the phenomenology of the off-shell Higgs production."
   ]
  },
  {
   "cell_type": "code",
   "execution_count": 1,
   "id": "58d204ef",
   "metadata": {},
   "outputs": [],
   "source": [
    "# import the packages\n",
    "import sys\n",
    "sys.path.append(\"../\")\n",
    "\n",
    "import pandas as pd\n",
    "import numpy as np\n",
    "import vector\n",
    "import hist\n",
    "\n",
    "from physics.simulation import mcfm\n",
    "from physics.analysis import zz4l, zz2l2v\n",
    "from physics.hstar import sigstr\n",
    "from nsbi import carl\n",
    "\n",
    "import matplotlib, matplotlib.pyplot as plt"
   ]
  },
  {
   "cell_type": "markdown",
   "id": "d60ff0a8",
   "metadata": {},
   "source": [
    "## 1. Open the dataset\n",
    "\n",
    "Use the `mcfm.from_csv(file_path=..., kinematics=...)` function to open three datasetsv generated according to the different hypotheses:\n",
    "\n",
    "1. Signal-only, $|\\mathcal{M}_{gg \\to h^{\\ast} \\to ZZ}|^2$.\n",
    "2. Background-only, $|\\mathcal{M}_{gg \\to h^{\\ast} \\to ZZ}|^2$.\n",
    "3. Signal+background+interference, $|\\mathcal{M}_{gg \\to h^{\\ast} \\to ZZ}|^2$.\n",
    "\n",
    "Open the corresponding datasets, remember to explicitly specify the 4-lepton observables, $x$, to be read out from each event."
   ]
  },
  {
   "cell_type": "code",
   "execution_count": 2,
   "id": "214b9223",
   "metadata": {},
   "outputs": [],
   "source": [
    "features_4l = ['l1_pt', 'l1_eta', 'l1_phi', 'l1_energy', 'l2_pt', 'l2_eta', 'l2_phi', 'l2_energy', 'l3_pt', 'l3_eta', 'l3_phi', 'l3_energy', 'l4_pt', 'l4_eta', 'l4_phi', 'l4_energy']\n",
    "data_path = '/global/cfs/cdirs/trn016/h4l_data/sm/'\n",
    "\n",
    "events_sig = mcfm.from_csv(file_path = data_path + 'ggzz4l_sig.csv', kinematics = features_4l)\n",
    "events_bkg = mcfm.from_csv(file_path = data_path +  'ggzz4l_bkg.csv', kinematics = features_4l)\n",
    "events_sbi = mcfm.from_csv(file_path = data_path +  'ggzz4l_sbi.csv', kinematics = features_4l)"
   ]
  },
  {
   "cell_type": "markdown",
   "id": "63b3dd6e",
   "metadata": {},
   "source": [
    "## 1. Basic histogramming\n",
    "\n",
    "A binned visualzation of this can be performed using histograms, as should be familiar to all of us in HEP. Use the `hist` package to:\n",
    "\n",
    "1. Define a histogram with 20 bins from $0 \\leq p_{\\rm T} < 200\\, \\rm GeV$.\n",
    "2. Fill it with the leading lepton $p_{\\rm T}^{\\ell_1}$ as the observable, with weights."
   ]
  },
  {
   "cell_type": "code",
   "execution_count": 3,
   "id": "99aba79f",
   "metadata": {},
   "outputs": [
    {
     "data": {
      "text/html": [
       "<html>\n",
       "<div style=\"display:flex; align-items:center;\">\n",
       "<div style=\"width:290px;\">\n",
       "<svg xmlns=\"http://www.w3.org/2000/svg\" viewBox=\"-10 -105 270 120\">\n",
       "<line x1=\"-5\" y1=\"0\" x2=\"255\" y2=\"0\" style=\"fill:none;stroke-width:2;stroke:currentColor\"/>\n",
       "<text text-anchor=\"middle\" x=\"0\" y=\"15\" style=\"fill:currentColor;\">\n",
       "0\n",
       "</text>\n",
       "<text text-anchor=\"middle\" x=\"250\" y=\"15\" style=\"fill:currentColor;\">\n",
       "200\n",
       "</text>\n",
       "<text text-anchor=\"middle\" x=\"125.0\" y=\"15\" style=\"fill:currentColor;\">\n",
       "l1pt\n",
       "</text>\n",
       "<polyline points=\"  0,0   0,-0 12.5,-0 12.5,-0  25,-0  25,-2.17 37.5,-2.17 37.5,-15.6  50,-15.6  50,-81.8 62.5,-81.8 62.5,-100  75,-100  75,-76 87.5,-76 87.5,-56.5 100,-56.5 100,-40.9 112.5,-40.9 112.5,-29.1 125,-29.1 125,-20.5 137.5,-20.5 137.5,-14.7 150,-14.7 150,-10.5 162.5,-10.5 162.5,-7.54 175,-7.54 175,-5.57 187.5,-5.57 187.5,-4.16 200,-4.16 200,-3.15 212.5,-3.15 212.5,-2.45 225,-2.45 225,-1.86 237.5,-1.86 237.5,-1.43 250,-1.43 250,0\" style=\"fill:none; stroke:currentColor;\"/>\n",
       "</svg>\n",
       "</div>\n",
       "<div style=\"flex=grow:1;\">\n",
       "Regular(20, 0, 200, label='l1pt')<br/>\n",
       "<hr style=\"margin-top:.2em; margin-bottom:.2em;\"/>\n",
       "Double() Σ=5.588123963430317 <em>(5.656497839039506 with flow)</em>\n",
       "\n",
       "</div>\n",
       "</div>\n",
       "</html>"
      ],
      "text/plain": [
       "Hist(Regular(20, 0, 200, label='l1pt'), storage=Double()) # Sum: 5.588123963430317 (5.656497839039506 with flow)"
      ]
     },
     "execution_count": 3,
     "metadata": {},
     "output_type": "execute_result"
    }
   ],
   "source": [
    "l1pt_axis = hist.axis.Regular(20, 0, 200, label = 'l1pt')\n",
    "h_l1pt_sig = hist.Hist(l1pt_axis)\n",
    "h_l1pt_bkg = hist.Hist(l1pt_axis)\n",
    "h_l1pt_sbi = hist.Hist(l1pt_axis)\n",
    "\n",
    "h_l1pt_sig.fill( events_sig.kinematics['l1_pt'], weight = events_sig.weights )\n",
    "h_l1pt_bkg.fill( events_bkg.kinematics['l1_pt'], weight = events_bkg.weights )\n",
    "h_l1pt_sbi.fill( events_sbi.kinematics['l1_pt'], weight = events_sbi.weights )"
   ]
  },
  {
   "cell_type": "markdown",
   "id": "0f332b1b",
   "metadata": {},
   "source": [
    "You are encouraged to visualize these in more detail by plotting them on the same axis."
   ]
  },
  {
   "cell_type": "markdown",
   "id": "bc935a48",
   "metadata": {},
   "source": [
    "## 2. Custom observable calculation: $m_{4\\ell}$\n",
    "\n",
    "Recall that the Lorentz invariant mass of a four-momentum is given by.\n",
    "\n",
    "$$\n",
    "m = \\sqrt{E^2 - |{\\bf{p}}|^2}.\n",
    "$$\n",
    "\n",
    "The four-vector $p$ can represent that of any of the 4 leptons, or that of the entire 4-lepton system:\n",
    "\n",
    "$$\n",
    "    m_{4\\ell} = \\sqrt{\\left(\\sum_i E_i\\right)^2 - \\left|\\sum_i {\\bf p_i}\\right|^2}\n",
    "$$\n",
    "\n",
    "Let's compute this quantity using the convenient four-vector arithmetics provicded by the `vector` package. You can check your results with the correct values already saved in the event kinematics.\n"
   ]
  },
  {
   "cell_type": "code",
   "execution_count": 4,
   "id": "9e90bfb9",
   "metadata": {},
   "outputs": [],
   "source": [
    "def calculate_m4l(kinematics):\n",
    "    p_l1 = vector.array({'pt': kinematics['l1_pt'], 'eta': kinematics['l1_eta'], 'phi': kinematics['l1_phi'], 'energy': kinematics['l1_energy']})\n",
    "    p_l2 = vector.array({'pt': kinematics['l2_pt'], 'eta': kinematics['l2_eta'], 'phi': kinematics['l2_phi'], 'energy': kinematics['l2_energy']})\n",
    "    p_l3 = vector.array({'pt': kinematics['l3_pt'], 'eta': kinematics['l3_eta'], 'phi': kinematics['l3_phi'], 'energy': kinematics['l3_energy']})\n",
    "    p_l4 = vector.array({'pt': kinematics['l4_pt'], 'eta': kinematics['l4_eta'], 'phi': kinematics['l4_phi'], 'energy': kinematics['l4_energy']})\n",
    "    return (p_l1 + p_l2 + p_l3 + p_l4).mass"
   ]
  },
  {
   "cell_type": "markdown",
   "id": "7ea73aa1",
   "metadata": {},
   "source": [
    "Now we histogram the 4-lepon invariant mass! Use a uniform $20\\,\\rm GeV$-wide bins, $180 \\leq m_{4\\ell} < 1000\\, \\rm GeV$."
   ]
  },
  {
   "cell_type": "code",
   "execution_count": 5,
   "id": "09fae752",
   "metadata": {},
   "outputs": [
    {
     "data": {
      "text/html": [
       "<html>\n",
       "<div style=\"display:flex; align-items:center;\">\n",
       "<div style=\"width:290px;\">\n",
       "<svg xmlns=\"http://www.w3.org/2000/svg\" viewBox=\"-10 -105 270 120\">\n",
       "<line x1=\"-5\" y1=\"0\" x2=\"255\" y2=\"0\" style=\"fill:none;stroke-width:2;stroke:currentColor\"/>\n",
       "<text text-anchor=\"middle\" x=\"0\" y=\"15\" style=\"fill:currentColor;\">\n",
       "180\n",
       "</text>\n",
       "<text text-anchor=\"middle\" x=\"250\" y=\"15\" style=\"fill:currentColor;\">\n",
       "1e+03\n",
       "</text>\n",
       "<text text-anchor=\"middle\" x=\"125.0\" y=\"15\" style=\"fill:currentColor;\">\n",
       "m4l\n",
       "</text>\n",
       "<polyline points=\"  0,0   0,-100 11.9048,-100 11.9048,-71.9 23.8095,-71.9 23.8095,-38.4 35.7143,-38.4 35.7143,-20.6 47.619,-20.6 47.619,-11.4 59.5238,-11.4 59.5238,-6.98 71.4286,-6.98 71.4286,-4.43 83.3333,-4.43 83.3333,-2.87 95.2381,-2.87 95.2381,-1.92 107.143,-1.92 107.143,-1.3 119.048,-1.3 119.048,-0.907 130.952,-0.907 130.952,-0.64 142.857,-0.64 142.857,-0.457 154.762,-0.457 154.762,-0.325 166.667,-0.325 166.667,-0.24 178.571,-0.24 178.571,-0.18 190.476,-0.18 190.476,-0.137 202.381,-0.137 202.381,-0.1 214.286,-0.1 214.286,-0.0797 226.19,-0.0797 226.19,-0.0628 238.095,-0.0628 238.095,-0.0457 250,-0.0457 250,0\" style=\"fill:none; stroke:currentColor;\"/>\n",
       "</svg>\n",
       "</div>\n",
       "<div style=\"flex=grow:1;\">\n",
       "Regular(21, 180, 1000, label='m4l')<br/>\n",
       "<hr style=\"margin-top:.2em; margin-bottom:.2em;\"/>\n",
       "Double() Σ=5.653786601947237 <em>(5.656497839039331 with flow)</em>\n",
       "\n",
       "</div>\n",
       "</div>\n",
       "</html>"
      ],
      "text/plain": [
       "Hist(Regular(21, 180, 1000, label='m4l'), storage=Double()) # Sum: 5.653786601947237 (5.656497839039331 with flow)"
      ]
     },
     "execution_count": 5,
     "metadata": {},
     "output_type": "execute_result"
    }
   ],
   "source": [
    "m4l_axis = hist.axis.Regular(21, 180, 1000, label = 'm4l')\n",
    "h_m4l_sig = hist.Hist(m4l_axis)\n",
    "h_m4l_bkg = hist.Hist(m4l_axis)\n",
    "h_m4l_sbi = hist.Hist(m4l_axis)\n",
    "\n",
    "h_m4l_sig.fill( calculate_m4l(events_sig.kinematics), weight = events_sig.weights )\n",
    "h_m4l_bkg.fill( calculate_m4l(events_bkg.kinematics), weight = events_bkg.weights )\n",
    "h_m4l_sbi.fill( calculate_m4l(events_sbi.kinematics), weight = events_sbi.weights )"
   ]
  },
  {
   "cell_type": "markdown",
   "id": "980d1f11",
   "metadata": {},
   "source": [
    "## 3. Inteference-only contribution\n",
    "\n",
    "Obtain the $m_{4\\ell}$ distribution corresponding to the interference-only hypothesis:\n",
    "\n",
    "$$\n",
    "\\color{grey} \\left| \\mathcal{M}_{\\rm S} + \\mathcal{M}_{\\rm B} \\right|^2 = |\\mathcal{M}_{\\rm S}|^2 +\\color{black}  2\\mathbb{R}(\\mathcal{M}^{\\dagger}_{\\rm S} \\mathcal{M}_{\\rm B} ) \\color{grey} + \\left| \\mathcal{M}_{\\rm B} \\right|^2\n",
    "$$\n",
    "\n",
    "Note that the above three datasets correspond to the terms in grey."
   ]
  },
  {
   "cell_type": "code",
   "execution_count": 6,
   "id": "b2103870",
   "metadata": {},
   "outputs": [
    {
     "data": {
      "text/plain": [
       "[StairsArtists(stairs=<matplotlib.patches.StepPatch object at 0x7f9fa5506e40>, errorbar=None, legend_artist=None)]"
      ]
     },
     "execution_count": 6,
     "metadata": {},
     "output_type": "execute_result"
    },
    {
     "data": {
      "image/png": "[encoded data removed]",
      "text/plain": [
       "<Figure size 640x480 with 1 Axes>"
      ]
     },
     "metadata": {},
     "output_type": "display_data"
    }
   ],
   "source": [
    "h_m4l_int = h_m4l_sbi - h_m4l_sig - h_m4l_bkg\n",
    "h_m4l_int.plot()"
   ]
  },
  {
   "cell_type": "markdown",
   "id": "3c8c8a33",
   "metadata": {},
   "source": [
    "What do you notice about the interference term? Is the contribution mostly positive or negative?"
   ]
  },
  {
   "cell_type": "markdown",
   "id": "ed13503d",
   "metadata": {},
   "source": [
    "## 4. Modifications to Higgs process via signal strength\n",
    "\n",
    "Recall that modifications to the Higgs signal process is assumed to occur through the signal strength parameter, $\\mu$, that scales the signal-squared & inteference terms as:\n",
    "\n",
    "$$\n",
    "\\left| \\sqrt{\\mu} \\mathcal{M}_{\\rm S} + \\mathcal{M}_{\\rm B} \\right|^2 = \\mu |\\mathcal{M}_{\\rm S}|^2 + \\sqrt{\\mu} 2 \\mathbb{R} ( \\mathcal{M}^{\\dagger}_{\\rm S} \\mathcal{M}_{\\rm B} ) + \\left| \\mathcal{M}_{\\rm B} \\right|^2\n",
    "$$\n",
    "\n",
    "The code to calculate changes in the event weight of the full signal+background+interference process.\n",
    "\n",
    "```py\n",
    "mu = 1.0  # use a BSM value other than 1!\n",
    "w_sbi_bsm, _ = sigstr.scale(events_sbi, signal_strength = mu)\n",
    "```\n",
    "\n",
    "Notice that setting $\\mu = 0.0$ generates a background-only sample from the full SBI process. Alternatively, setting $\\mu=4.0$ should \"scale up\" the Higgs signal: let's check this for the $m_{4\\ell}$ distribution."
   ]
  },
  {
   "cell_type": "code",
   "execution_count": 7,
   "id": "7c806a4c",
   "metadata": {},
   "outputs": [
    {
     "name": "stderr",
     "output_type": "stream",
     "text": [
      "<>:8: SyntaxWarning: invalid escape sequence '\\m'\n",
      "<>:8: SyntaxWarning: invalid escape sequence '\\m'\n",
      "/tmp/ipykernel_1501877/2974099406.py:8: SyntaxWarning: invalid escape sequence '\\m'\n",
      "  h_m4l_sbi_mu4p0.plot(label='SBI ($\\mu = 4.0$)', color='blue')\n"
     ]
    },
    {
     "data": {
      "text/plain": [
       "<matplotlib.legend.Legend at 0x7f9fa5507a10>"
      ]
     },
     "execution_count": 7,
     "metadata": {},
     "output_type": "execute_result"
    },
    {
     "data": {
      "image/png": "[encoded data removed]",
      "text/plain": [
       "<Figure size 640x480 with 1 Axes>"
      ]
     },
     "metadata": {},
     "output_type": "display_data"
    }
   ],
   "source": [
    "w_sbi_mu4p0, _ = events_sbi_mu4p0 = sigstr.scale(events_sbi, signal_strength=2.0)\n",
    "\n",
    "h_m4l_sbi_mu4p0 = hist.Hist(m4l_axis)\n",
    "h_m4l_sbi_mu4p0.fill( calculate_m4l(events_sbi.kinematics), weight = w_sbi_mu4p0)\n",
    "\n",
    "h_m4l_bkg.plot(label='Background', color='grey')\n",
    "h_m4l_sbi.plot(label='SBI (SM)', color='red')\n",
    "h_m4l_sbi_mu4p0.plot(label='SBI ($\\mu = 4.0$)', color='blue')\n",
    "\n",
    "plt.yscale('log')\n",
    "plt.legend()"
   ]
  },
  {
   "cell_type": "markdown",
   "id": "3d3273a3",
   "metadata": {},
   "source": [
    "You are also encouraged, same as previously, to check in more detail by plotting the ratio between these distributions. "
   ]
  }
 ],
 "metadata": {
  "kernelspec": {
   "display_name": "ML4FP2025_Day2",
   "language": "python",
   "name": "training_env_pytorch"
  },
  "language_info": {
   "codemirror_mode": {
    "name": "ipython",
    "version": 3
   },
   "file_extension": ".py",
   "mimetype": "text/x-python",
   "name": "python",
   "nbconvert_exporter": "python",
   "pygments_lexer": "ipython3",
   "version": "3.13.5"
  }
 },
 "nbformat": 4,
 "nbformat_minor": 5
}
